{
 "cells": [
  {
   "cell_type": "code",
   "execution_count": null,
   "metadata": {},
   "outputs": [],
   "source": [
    "import pandas as pd\n",
    "from sklearn.model_selection import train_test_split\n",
    "\n",
    "file_path = 'transformed_data.csv'\n",
    "data = pd.read_csv(file_path)\n",
    "\n",
    "print(data.head(5))\n",
    "\n",
    "X = data.iloc[:,:-1]\n",
    "y = data['GrossWeight']\n",
    "\n",
    "X_train , X_test , Y_train , Y_test = train_test_split(\n",
    "    X,\n",
    "    y,\n",
    "    test_size=0.2,\n",
    "    random_state=42\n",
    ")"
   ]
  },
  {
   "cell_type": "code",
   "execution_count": null,
   "metadata": {},
   "outputs": [],
   "source": [
    "import joblib\n",
    "import numpy as np\n",
    "from xgboost import XGBRegressor\n",
    "from sklearn.metrics import mean_squared_error, r2_score, mean_absolute_error\n",
    "\n",
    "xgb_model = XGBRegressor(\n",
    "    n_estimators=300,\n",
    "    learning_rate=0.05,\n",
    "    max_depth=8,\n",
    "    subsample=0.8,\n",
    "    colsample_bytree=0.8,\n",
    "    random_state=42\n",
    ")\n",
    "xgb_model.fit(X_train, Y_train)\n",
    "\n",
    "y_pred_xgb = xgb_model.predict(X_test)\n",
    "\n",
    "mse_xgb = mean_squared_error(Y_test, y_pred_xgb)\n",
    "rmse_xgb = np.sqrt(mse_xgb)\n",
    "r2_xgb = r2_score(Y_test, y_pred_xgb)\n",
    "mae_xgb = mean_absolute_error(Y_test, y_pred_xgb)\n",
    "\n",
    "print(\"\\nXGBoost Model Performance:\")\n",
    "print(\"Mean Squared Error (MSE):\", mse_xgb)\n",
    "print(\"R-squared (R2) Score:\", r2_xgb)\n",
    "print(\"Mean Absolute Error (MAE):\", mae_xgb)\n",
    "print(\"Root Mean Squared Error (RMSE):\", rmse_xgb)\n",
    "\n",
    "model_filename = \"xgb_model.joblib\"\n",
    "joblib.dump(xgb_model, model_filename)\n",
    "print(f\"XGBoost model saved as {model_filename}\")\n",
    "\n",
    "results_df = pd.DataFrame({\n",
    "    'Actual GrossWeight': Y_test,\n",
    "    'Predicted GrossWeight': y_pred_xgb\n",
    "})\n",
    "\n",
    "results_filename = \"xgb_results.csv\"\n",
    "results_df.to_csv(results_filename, index=False)\n",
    "print(f\"Results saved to {results_filename}\")"
   ]
  }
 ],
 "metadata": {
  "kernelspec": {
   "display_name": "Python 3",
   "language": "python",
   "name": "python3"
  },
  "language_info": {
   "codemirror_mode": {
    "name": "ipython",
    "version": 3
   },
   "file_extension": ".py",
   "mimetype": "text/x-python",
   "name": "python",
   "nbconvert_exporter": "python",
   "pygments_lexer": "ipython3",
   "version": "3.10.16"
  }
 },
 "nbformat": 4,
 "nbformat_minor": 2
}
